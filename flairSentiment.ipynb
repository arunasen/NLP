{
  "nbformat": 4,
  "nbformat_minor": 0,
  "metadata": {
    "colab": {
      "name": "flairSentiment.ipynb",
      "provenance": [],
      "collapsed_sections": [],
      "toc_visible": true,
      "mount_file_id": "18q4O4iRA_b4JQ6NenOEf_3P0K2wWmgoQ",
      "authorship_tag": "ABX9TyPobYFjppwAkLKKShyRiQ4h",
      "include_colab_link": true
    },
    "kernelspec": {
      "name": "python3",
      "display_name": "Python 3"
    },
    "accelerator": "GPU"
  },
  "cells": [
    {
      "cell_type": "markdown",
      "metadata": {
        "id": "view-in-github",
        "colab_type": "text"
      },
      "source": [
        "<a href=\"https://colab.research.google.com/github/arunasen/NLP/blob/main/flairSentiment.ipynb\" target=\"_parent\"><img src=\"https://colab.research.google.com/assets/colab-badge.svg\" alt=\"Open In Colab\"/></a>"
      ]
    },
    {
      "cell_type": "code",
      "metadata": {
        "id": "sWGYzY9f9MYc"
      },
      "source": [
        "pip install flair"
      ],
      "execution_count": null,
      "outputs": []
    },
    {
      "cell_type": "code",
      "metadata": {
        "id": "47VQbLSa4-Si"
      },
      "source": [
        "\n",
        "import flair\n",
        "from flair.data import Corpus\n",
        "from flair.datasets import ClassificationCorpus\n",
        "from flair.models.text_classification_model import TARSClassifier\n",
        "from flair.trainers import ModelTrainer\n",
        "\n",
        "#from flair.data_fetcher import NLPTaskDataFetcher\n",
        "#from flair.embeddings import WordEmbeddings, FlairEmbeddings, DocumentRNNEmbeddings\n",
        "#from flair.models import TextClassifier\n",
        "\n",
        "#from pathlib import Path\n",
        "#from flair.embeddings import TransformerWordEmbeddings\n",
        "#from flair.embeddings import BytePairEmbeddings\n",
        "\n",
        "\n",
        "\n",
        "\n",
        "#make a corpus\n",
        "data_folder = '/content/drive/MyDrive/data'\n",
        "corpus: Corpus = ClassificationCorpus(data_folder, test_file='test.csv',dev_file='dev.csv',train_file='train.csv')\n",
        "tars = TARSClassifier(task_name='tarsChinese', label_dictionary=corpus.make_label_dictionary())\n",
        "trainer = ModelTrainer(tars, corpus)\n",
        "trainer.train(base_path='balancedTARS', # path to store the model artifacts\n",
        "              learning_rate=0.02, # use very small learning rate\n",
        "              mini_batch_size=16,\n",
        "              mini_batch_chunk_size=4, # optionally set this if transformer is too much for your machine\n",
        "              max_epochs=10, # terminate after 10 epochs\n",
        "             )"
      ],
      "execution_count": null,
      "outputs": []
    },
    {
      "cell_type": "code",
      "metadata": {
        "colab": {
          "base_uri": "https://localhost:8080/",
          "height": 181
        },
        "id": "TZADGp6LN7uH",
        "outputId": "a4f7252a-9080-4f39-8048-d44334c07367"
      },
      "source": [
        "corpus: Corpus = ClassificationCorpus(data_folder, test_file='/testFinal.csv',dev_file='/devFinal.csv',train_file='/trainFinal.csv')"
      ],
      "execution_count": null,
      "outputs": [
        {
          "output_type": "error",
          "ename": "NameError",
          "evalue": "ignored",
          "traceback": [
            "\u001b[0;31m---------------------------------------------------------------------------\u001b[0m",
            "\u001b[0;31mNameError\u001b[0m                                 Traceback (most recent call last)",
            "\u001b[0;32m<ipython-input-1-37d0d30e5a7c>\u001b[0m in \u001b[0;36m<module>\u001b[0;34m()\u001b[0m\n\u001b[0;32m----> 1\u001b[0;31m \u001b[0mcorpus\u001b[0m\u001b[0;34m:\u001b[0m \u001b[0mCorpus\u001b[0m \u001b[0;34m=\u001b[0m \u001b[0mClassificationCorpus\u001b[0m\u001b[0;34m(\u001b[0m\u001b[0mdata_folder\u001b[0m\u001b[0;34m,\u001b[0m \u001b[0mtest_file\u001b[0m\u001b[0;34m=\u001b[0m\u001b[0;34m'/testFinal.csv'\u001b[0m\u001b[0;34m,\u001b[0m\u001b[0mdev_file\u001b[0m\u001b[0;34m=\u001b[0m\u001b[0;34m'/devFinal.csv'\u001b[0m\u001b[0;34m,\u001b[0m\u001b[0mtrain_file\u001b[0m\u001b[0;34m=\u001b[0m\u001b[0;34m'/trainFinal.csv'\u001b[0m\u001b[0;34m)\u001b[0m\u001b[0;34m\u001b[0m\u001b[0;34m\u001b[0m\u001b[0m\n\u001b[0m",
            "\u001b[0;31mNameError\u001b[0m: name 'ClassificationCorpus' is not defined"
          ]
        }
      ]
    }
  ]
}